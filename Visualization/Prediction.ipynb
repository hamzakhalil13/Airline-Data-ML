{
 "cells": [
  {
   "cell_type": "code",
   "execution_count": 1,
   "metadata": {},
   "outputs": [],
   "source": [
    "import pandas as pd\n",
    "import numpy as np\n",
    "\n",
    "import seaborn as sns\n",
    "# Import the trees from sklearn\n",
    "from sklearn import tree\n",
    "\n",
    "from sklearn import metrics\n",
    "\n",
    "from sklearn.metrics import classification_report\n",
    "from sklearn.linear_model import LogisticRegression\n",
    "\n",
    "# Helper function to split our data\n",
    "from sklearn.model_selection import train_test_split\n",
    "\n",
    "# Helper fuctions to evaluate our model.\n",
    "from sklearn.metrics import accuracy_score, precision_score, recall_score, f1_score, roc_auc_score\n",
    "\n",
    "# Helper function for hyper-parameter turning.\n",
    "from sklearn.model_selection import GridSearchCV\n",
    "\n",
    "\n",
    "# Import our Decision Tree\n",
    "from sklearn.tree import DecisionTreeClassifier \n",
    "\n",
    "\n",
    "# Import our Random Forest \n",
    "from sklearn.ensemble import RandomForestRegressor\n",
    "\n",
    "from sklearn.ensemble import RandomForestClassifier\n",
    "from sklearn.naive_bayes import MultinomialNB\n",
    "from sklearn.feature_extraction.text import CountVectorizer\n",
    "from sklearn.feature_extraction.text import TfidfVectorizer\n",
    "\n",
    "\n",
    "# Library for visualizing our tree\n",
    "from sklearn.model_selection import GridSearchCV\n",
    "\n",
    "# If you get an error, run 'conda install python-graphviz' in your terminal (without the quotes).\n",
    "import graphviz \n",
    "\n",
    "# Use inline so our visualizations display in notebook\n",
    "%matplotlib inline"
   ]
  },
  {
   "cell_type": "code",
   "execution_count": null,
   "metadata": {},
   "outputs": [],
   "source": [
    "# df = df.iloc[0:100000]\n",
    "# # df2 = df.iloc[1000000:1100000]\n",
    "# # df3 = df.iloc[2000000:2100000]\n",
    "# # df4 = df.iloc[3000000:3100000]\n",
    "# # df5 = df.iloc[4000000:4100000]\n",
    "# # df = [df1,df2,df3,df4]\n",
    "# df"
   ]
  },
  {
   "cell_type": "code",
   "execution_count": 2,
   "metadata": {},
   "outputs": [],
   "source": [
    "# df = pd.read_csv('/Users/hamzakhalil13/Desktop/Data2/2019_4.csv')\n",
    "# df"
   ]
  },
  {
   "cell_type": "code",
   "execution_count": 3,
   "metadata": {},
   "outputs": [
    {
     "data": {
      "text/html": [
       "<div>\n",
       "<style scoped>\n",
       "    .dataframe tbody tr th:only-of-type {\n",
       "        vertical-align: middle;\n",
       "    }\n",
       "\n",
       "    .dataframe tbody tr th {\n",
       "        vertical-align: top;\n",
       "    }\n",
       "\n",
       "    .dataframe thead th {\n",
       "        text-align: right;\n",
       "    }\n",
       "</style>\n",
       "<table border=\"1\" class=\"dataframe\">\n",
       "  <thead>\n",
       "    <tr style=\"text-align: right;\">\n",
       "      <th></th>\n",
       "      <th>ITIN_ID</th>\n",
       "      <th>YEAR</th>\n",
       "      <th>QUARTER</th>\n",
       "      <th>ORIGIN_STATE_NM</th>\n",
       "      <th>DEST_STATE_NM</th>\n",
       "      <th>TICKET_CARRIER</th>\n",
       "      <th>PASSENGERS</th>\n",
       "      <th>MARKET_FARE</th>\n",
       "      <th>NONSTOP_MILES</th>\n",
       "    </tr>\n",
       "  </thead>\n",
       "  <tbody>\n",
       "    <tr>\n",
       "      <th>0</th>\n",
       "      <td>2022248</td>\n",
       "      <td>2022</td>\n",
       "      <td>2</td>\n",
       "      <td>South Carolina</td>\n",
       "      <td>Florida</td>\n",
       "      <td>3M</td>\n",
       "      <td>1.0</td>\n",
       "      <td>33.0</td>\n",
       "      <td>470.0</td>\n",
       "    </tr>\n",
       "    <tr>\n",
       "      <th>1</th>\n",
       "      <td>2022249</td>\n",
       "      <td>2022</td>\n",
       "      <td>2</td>\n",
       "      <td>South Carolina</td>\n",
       "      <td>Florida</td>\n",
       "      <td>3M</td>\n",
       "      <td>1.0</td>\n",
       "      <td>59.0</td>\n",
       "      <td>470.0</td>\n",
       "    </tr>\n",
       "    <tr>\n",
       "      <th>2</th>\n",
       "      <td>2022250</td>\n",
       "      <td>2022</td>\n",
       "      <td>2</td>\n",
       "      <td>South Carolina</td>\n",
       "      <td>Florida</td>\n",
       "      <td>3M</td>\n",
       "      <td>15.0</td>\n",
       "      <td>67.0</td>\n",
       "      <td>470.0</td>\n",
       "    </tr>\n",
       "    <tr>\n",
       "      <th>3</th>\n",
       "      <td>2022251</td>\n",
       "      <td>2022</td>\n",
       "      <td>2</td>\n",
       "      <td>South Carolina</td>\n",
       "      <td>Florida</td>\n",
       "      <td>3M</td>\n",
       "      <td>12.0</td>\n",
       "      <td>79.0</td>\n",
       "      <td>470.0</td>\n",
       "    </tr>\n",
       "    <tr>\n",
       "      <th>4</th>\n",
       "      <td>2022252</td>\n",
       "      <td>2022</td>\n",
       "      <td>2</td>\n",
       "      <td>South Carolina</td>\n",
       "      <td>Florida</td>\n",
       "      <td>3M</td>\n",
       "      <td>1.0</td>\n",
       "      <td>80.0</td>\n",
       "      <td>470.0</td>\n",
       "    </tr>\n",
       "    <tr>\n",
       "      <th>...</th>\n",
       "      <td>...</td>\n",
       "      <td>...</td>\n",
       "      <td>...</td>\n",
       "      <td>...</td>\n",
       "      <td>...</td>\n",
       "      <td>...</td>\n",
       "      <td>...</td>\n",
       "      <td>...</td>\n",
       "      <td>...</td>\n",
       "    </tr>\n",
       "    <tr>\n",
       "      <th>2097147</th>\n",
       "      <td>202221881608</td>\n",
       "      <td>2022</td>\n",
       "      <td>2</td>\n",
       "      <td>Massachusetts</td>\n",
       "      <td>Iowa</td>\n",
       "      <td>DL</td>\n",
       "      <td>1.0</td>\n",
       "      <td>236.5</td>\n",
       "      <td>1165.0</td>\n",
       "    </tr>\n",
       "    <tr>\n",
       "      <th>2097148</th>\n",
       "      <td>202221881608</td>\n",
       "      <td>2022</td>\n",
       "      <td>2</td>\n",
       "      <td>Iowa</td>\n",
       "      <td>Massachusetts</td>\n",
       "      <td>DL</td>\n",
       "      <td>1.0</td>\n",
       "      <td>236.5</td>\n",
       "      <td>1165.0</td>\n",
       "    </tr>\n",
       "    <tr>\n",
       "      <th>2097149</th>\n",
       "      <td>202221881609</td>\n",
       "      <td>2022</td>\n",
       "      <td>2</td>\n",
       "      <td>Massachusetts</td>\n",
       "      <td>Iowa</td>\n",
       "      <td>DL</td>\n",
       "      <td>1.0</td>\n",
       "      <td>285.0</td>\n",
       "      <td>1165.0</td>\n",
       "    </tr>\n",
       "    <tr>\n",
       "      <th>2097150</th>\n",
       "      <td>202221881609</td>\n",
       "      <td>2022</td>\n",
       "      <td>2</td>\n",
       "      <td>Iowa</td>\n",
       "      <td>Massachusetts</td>\n",
       "      <td>DL</td>\n",
       "      <td>1.0</td>\n",
       "      <td>285.0</td>\n",
       "      <td>1165.0</td>\n",
       "    </tr>\n",
       "    <tr>\n",
       "      <th>2097151</th>\n",
       "      <td>202221881610</td>\n",
       "      <td>2022</td>\n",
       "      <td>2</td>\n",
       "      <td>Massachusetts</td>\n",
       "      <td>Iowa</td>\n",
       "      <td>DL</td>\n",
       "      <td>1.0</td>\n",
       "      <td>479.5</td>\n",
       "      <td>1165.0</td>\n",
       "    </tr>\n",
       "  </tbody>\n",
       "</table>\n",
       "<p>2097152 rows × 9 columns</p>\n",
       "</div>"
      ],
      "text/plain": [
       "              ITIN_ID  YEAR  QUARTER ORIGIN_STATE_NM  DEST_STATE_NM  \\\n",
       "0             2022248  2022        2  South Carolina        Florida   \n",
       "1             2022249  2022        2  South Carolina        Florida   \n",
       "2             2022250  2022        2  South Carolina        Florida   \n",
       "3             2022251  2022        2  South Carolina        Florida   \n",
       "4             2022252  2022        2  South Carolina        Florida   \n",
       "...               ...   ...      ...             ...            ...   \n",
       "2097147  202221881608  2022        2   Massachusetts           Iowa   \n",
       "2097148  202221881608  2022        2            Iowa  Massachusetts   \n",
       "2097149  202221881609  2022        2   Massachusetts           Iowa   \n",
       "2097150  202221881609  2022        2            Iowa  Massachusetts   \n",
       "2097151  202221881610  2022        2   Massachusetts           Iowa   \n",
       "\n",
       "        TICKET_CARRIER  PASSENGERS  MARKET_FARE  NONSTOP_MILES  \n",
       "0                   3M         1.0         33.0          470.0  \n",
       "1                   3M         1.0         59.0          470.0  \n",
       "2                   3M        15.0         67.0          470.0  \n",
       "3                   3M        12.0         79.0          470.0  \n",
       "4                   3M         1.0         80.0          470.0  \n",
       "...                ...         ...          ...            ...  \n",
       "2097147             DL         1.0        236.5         1165.0  \n",
       "2097148             DL         1.0        236.5         1165.0  \n",
       "2097149             DL         1.0        285.0         1165.0  \n",
       "2097150             DL         1.0        285.0         1165.0  \n",
       "2097151             DL         1.0        479.5         1165.0  \n",
       "\n",
       "[2097152 rows x 9 columns]"
      ]
     },
     "execution_count": 3,
     "metadata": {},
     "output_type": "execute_result"
    }
   ],
   "source": [
    "df = pd.read_csv('/Users/hamzakhalil13/Desktop/Data2/2022_2.csv')\n",
    "df"
   ]
  },
  {
   "cell_type": "code",
   "execution_count": 4,
   "metadata": {},
   "outputs": [
    {
     "data": {
      "text/plain": [
       "(2097152, 9)"
      ]
     },
     "execution_count": 4,
     "metadata": {},
     "output_type": "execute_result"
    }
   ],
   "source": [
    "df.shape"
   ]
  },
  {
   "cell_type": "code",
   "execution_count": 5,
   "metadata": {},
   "outputs": [
    {
     "data": {
      "text/plain": [
       "0"
      ]
     },
     "execution_count": 5,
     "metadata": {},
     "output_type": "execute_result"
    }
   ],
   "source": [
    "df.isnull().sum().sum()"
   ]
  },
  {
   "cell_type": "code",
   "execution_count": 6,
   "metadata": {},
   "outputs": [
    {
     "data": {
      "text/plain": [
       "11549"
      ]
     },
     "execution_count": 6,
     "metadata": {},
     "output_type": "execute_result"
    }
   ],
   "source": [
    "df.duplicated().sum()"
   ]
  },
  {
   "cell_type": "code",
   "execution_count": 7,
   "metadata": {},
   "outputs": [
    {
     "data": {
      "text/plain": [
       "(2085603, 9)"
      ]
     },
     "execution_count": 7,
     "metadata": {},
     "output_type": "execute_result"
    }
   ],
   "source": [
    "df = df.drop_duplicates()\n",
    "df.shape"
   ]
  },
  {
   "cell_type": "code",
   "execution_count": 8,
   "metadata": {},
   "outputs": [],
   "source": [
    "Q1 = df['MARKET_FARE'].quantile(0.25)\n",
    "Q1\n",
    "\n",
    "# # # Calculate Q3\n",
    "Q3 = df['MARKET_FARE'].quantile(0.75)\n",
    "Q3\n",
    "# # # Define the Inter Quartile Range (IQR)\n",
    "IQR = Q3 - Q1\n",
    "IQR\n",
    "# # # Make select condition for the values that fall below the Q1 - 1.5*IQR\n",
    "outliers_below = df['MARKET_FARE'] < (Q1 - 1.5 * IQR)\n",
    "\n",
    "# # # Make select condition for the values that fall above the Q3 - 1.5*IQR\n",
    "outliers_above = df['MARKET_FARE'] > (Q3 + 1.5 * IQR)\n",
    "outliers_above\n",
    "# # # Select the INVERSE of the selection\n",
    "df = df[ ~(outliers_above | outliers_below) ]"
   ]
  },
  {
   "cell_type": "code",
   "execution_count": 9,
   "metadata": {},
   "outputs": [
    {
     "data": {
      "text/plain": [
       "(1983468, 9)"
      ]
     },
     "execution_count": 9,
     "metadata": {},
     "output_type": "execute_result"
    }
   ],
   "source": [
    "df.shape"
   ]
  },
  {
   "cell_type": "code",
   "execution_count": 112,
   "metadata": {
    "scrolled": false
   },
   "outputs": [
    {
     "data": {
      "text/plain": [
       "<matplotlib.axes._subplots.AxesSubplot at 0x7fe1a3ab0670>"
      ]
     },
     "execution_count": 112,
     "metadata": {},
     "output_type": "execute_result"
    },
    {
     "data": {
      "image/png": "[encoded data removed]",
      "text/plain": [
       "<Figure size 1008x648 with 1 Axes>"
      ]
     },
     "metadata": {
      "needs_background": "light"
     },
     "output_type": "display_data"
    }
   ],
   "source": [
    "airline = df.groupby('TICKET_CARRIER')\n",
    "airline_count= airline['TICKET_CARRIER'].count()\n",
    "airline_count=airline_count.sort_values(ascending=False)\n",
    "airline_count.plot(kind='barh',figsize=(14,9))"
   ]
  },
  {
   "cell_type": "code",
   "execution_count": 113,
   "metadata": {},
   "outputs": [],
   "source": [
    "selected_features = ['NONSTOP_MILES']"
   ]
  },
  {
   "cell_type": "code",
   "execution_count": 114,
   "metadata": {},
   "outputs": [],
   "source": [
    "X = df[selected_features].values\n",
    "\n",
    "y = df['MARKET_FARE'].values\n"
   ]
  },
  {
   "cell_type": "code",
   "execution_count": null,
   "metadata": {},
   "outputs": [],
   "source": []
  },
  {
   "cell_type": "code",
   "execution_count": 115,
   "metadata": {},
   "outputs": [
    {
     "name": "stdout",
     "output_type": "stream",
     "text": [
      "Lenght of our Training data: (1877042, 1) \n",
      "Length of our Testing data: (208561,)\n"
     ]
    }
   ],
   "source": [
    "X_train, X_test, y_train, y_test = train_test_split(X, y, test_size=0.1, random_state=45)\n",
    "\n",
    "print('Lenght of our Training data:', X_train.shape, '\\nLength of our Testing data:', y_test.shape)"
   ]
  },
  {
   "cell_type": "code",
   "execution_count": 116,
   "metadata": {},
   "outputs": [
    {
     "name": "stdout",
     "output_type": "stream",
     "text": [
      "(1877042,) <class 'numpy.ndarray'>\n"
     ]
    }
   ],
   "source": [
    "print(y_train.shape, type(y_train))"
   ]
  },
  {
   "cell_type": "code",
   "execution_count": 117,
   "metadata": {},
   "outputs": [
    {
     "data": {
      "text/plain": [
       "DecisionTreeRegressor()"
      ]
     },
     "execution_count": 117,
     "metadata": {},
     "output_type": "execute_result"
    }
   ],
   "source": [
    "model = tree.DecisionTreeRegressor()\n",
    "\n",
    "model.fit(X_train,y_train)"
   ]
  },
  {
   "cell_type": "code",
   "execution_count": 118,
   "metadata": {},
   "outputs": [],
   "source": [
    "y_pred = model.predict(X_test)\n"
   ]
  },
  {
   "cell_type": "code",
   "execution_count": 119,
   "metadata": {},
   "outputs": [
    {
     "name": "stdout",
     "output_type": "stream",
     "text": [
      "Model Accuracy: 0.138063\n"
     ]
    }
   ],
   "source": [
    "accuracy = model.score(X_test, y_test)\n",
    "print(\"Model Accuracy: %f\" % accuracy)"
   ]
  },
  {
   "cell_type": "code",
   "execution_count": 120,
   "metadata": {},
   "outputs": [],
   "source": [
    "#2nd model Logistic Regression"
   ]
  },
  {
   "cell_type": "code",
   "execution_count": 121,
   "metadata": {},
   "outputs": [],
   "source": [
    "# model_3 = LogisticRegression()"
   ]
  },
  {
   "cell_type": "code",
   "execution_count": 122,
   "metadata": {},
   "outputs": [],
   "source": [
    "# from sklearn import utils\n",
    "# from sklearn import preprocessing\n",
    "# lab = preprocessing.LabelEncoder()\n",
    "# y_transformed_2 = lab.fit_transform(y_train)\n",
    "\n",
    "# print(y_transformed_2)"
   ]
  },
  {
   "cell_type": "code",
   "execution_count": 123,
   "metadata": {},
   "outputs": [],
   "source": [
    "# model_3.fit(X_train, y_transformed_2)\n"
   ]
  },
  {
   "cell_type": "code",
   "execution_count": 124,
   "metadata": {},
   "outputs": [],
   "source": [
    "# y_pred_3 = model_3.predict(X_test)"
   ]
  },
  {
   "cell_type": "code",
   "execution_count": 125,
   "metadata": {},
   "outputs": [],
   "source": [
    "# 3rd model to see which gives best score possible"
   ]
  },
  {
   "cell_type": "code",
   "execution_count": 126,
   "metadata": {},
   "outputs": [],
   "source": [
    "#Decision tree classifier\n",
    "# model_2 = tree.DecisionTreeClassifier(max_depth=1)\n",
    "\n"
   ]
  },
  {
   "cell_type": "code",
   "execution_count": 127,
   "metadata": {},
   "outputs": [],
   "source": [
    "# from sklearn import utils\n",
    "# from sklearn import preprocessing\n",
    "# lab = preprocessing.LabelEncoder()\n",
    "# y_transformed = lab.fit_transform(y_train)\n",
    "\n",
    "# print(y_transformed)"
   ]
  },
  {
   "cell_type": "code",
   "execution_count": 128,
   "metadata": {},
   "outputs": [],
   "source": [
    "# model_2.fit(X_train,y_transformed)\n"
   ]
  },
  {
   "cell_type": "code",
   "execution_count": 129,
   "metadata": {},
   "outputs": [],
   "source": [
    "# y_pred2 = model_2.predict(X_test)\n",
    "# #kernel dies will try at different time"
   ]
  },
  {
   "cell_type": "code",
   "execution_count": 130,
   "metadata": {},
   "outputs": [],
   "source": [
    "# print(classification_report(y_test, y_pred, target_names=model.classes_))\n"
   ]
  },
  {
   "cell_type": "code",
   "execution_count": 131,
   "metadata": {},
   "outputs": [],
   "source": [
    "model_4 = RandomForestRegressor(random_state=1)\n",
    "model_4.fit(X_train, y_train)\n",
    "\n",
    "y_pred = model_4.predict(X_test)"
   ]
  },
  {
   "cell_type": "code",
   "execution_count": 132,
   "metadata": {},
   "outputs": [
    {
     "name": "stdout",
     "output_type": "stream",
     "text": [
      "R-Squared Score: 0.138349705914819\n"
     ]
    }
   ],
   "source": [
    "r_squared = metrics.r2_score(y_test, y_pred)\n",
    "print('R-Squared Score:', r_squared)"
   ]
  },
  {
   "cell_type": "code",
   "execution_count": 133,
   "metadata": {},
   "outputs": [
    {
     "name": "stdout",
     "output_type": "stream",
     "text": [
      "Model Accuracy: 0.138350\n"
     ]
    }
   ],
   "source": [
    "accuracy = model_4.score(X_test, y_test)\n",
    "print(\"Model Accuracy: %f\" % accuracy)"
   ]
  },
  {
   "cell_type": "code",
   "execution_count": 134,
   "metadata": {},
   "outputs": [],
   "source": [
    "model_5 = RandomForestRegressor(n_estimators=500, max_depth=10, random_state=1)\n",
    "model_5.fit(X_train, y_train)\n",
    "\n",
    "y_pred = model_5.predict(X_test)\n",
    "\n"
   ]
  },
  {
   "cell_type": "code",
   "execution_count": 135,
   "metadata": {},
   "outputs": [
    {
     "name": "stdout",
     "output_type": "stream",
     "text": [
      "R-Squared Score: 0.12814381971617161\n",
      "Mean Absolute Error: 146.17917346107185\n"
     ]
    }
   ],
   "source": [
    "r_squared = metrics.r2_score(y_test, y_pred)\n",
    "print('R-Squared Score:', r_squared)\n",
    "\n",
    "mae = metrics.mean_absolute_error(y_test, y_pred)\n",
    "print(\"Mean Absolute Error:\", mae)\n"
   ]
  },
  {
   "cell_type": "code",
   "execution_count": 136,
   "metadata": {},
   "outputs": [
    {
     "name": "stdout",
     "output_type": "stream",
     "text": [
      "Model Accuracy: 0.138350\n"
     ]
    }
   ],
   "source": [
    "accuracy = model_4.score(X_test, y_test)\n",
    "print(\"Model Accuracy: %f\" % accuracy)"
   ]
  },
  {
   "cell_type": "code",
   "execution_count": null,
   "metadata": {},
   "outputs": [],
   "source": []
  },
  {
   "cell_type": "code",
   "execution_count": null,
   "metadata": {},
   "outputs": [],
   "source": []
  }
 ],
 "metadata": {
  "kernelspec": {
   "display_name": "Python 3",
   "language": "python",
   "name": "python3"
  },
  "language_info": {
   "codemirror_mode": {
    "name": "ipython",
    "version": 3
   },
   "file_extension": ".py",
   "mimetype": "text/x-python",
   "name": "python",
   "nbconvert_exporter": "python",
   "pygments_lexer": "ipython3",
   "version": "3.8.3"
  }
 },
 "nbformat": 4,
 "nbformat_minor": 4
}
